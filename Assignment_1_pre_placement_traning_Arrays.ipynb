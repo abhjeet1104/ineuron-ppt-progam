{
  "nbformat": 4,
  "nbformat_minor": 0,
  "metadata": {
    "colab": {
      "provenance": []
    },
    "kernelspec": {
      "name": "python3",
      "display_name": "Python 3"
    },
    "language_info": {
      "name": "python"
    }
  },
  "cells": [
    {
      "cell_type": "markdown",
      "source": [
        "\n",
        "# **Q1.** Given an array of integers nums and an integer target, return indices of the two numbers such that they add up to target.\n",
        "\n",
        "You may assume that each input would have exactly one solution, and you may not use the same element twice.\n",
        "\n",
        "You can return the answer in any order.\n",
        "\n",
        "**Example:**\n",
        "Input: nums = [2,7,11,15], target = 9\n",
        "Output0 [0,1]\n",
        "\n",
        "**Explanation:** Because nums[0] + nums[1] == 9, we return [0, 1]"
      ],
      "metadata": {
        "id": "veKI8xu04qHQ"
      }
    },
    {
      "cell_type": "code",
      "source": [
        "class Solution(object):\n",
        "    def twoSum(self, nums, target):\n",
        "        \"\"\"\n",
        "        :type nums: List[int]\n",
        "        :type target: int\n",
        "        :rtype: List[int]\n",
        "        \"\"\"\n",
        "        \n",
        "        finder = defaultdict()\n",
        "        for i, num in enumerate(nums):\n",
        "            if target - num in finder:\n",
        "                return [finder[target - num],i ]\n",
        "            finder[num] = i\n",
        "        return [-1, -1]\n",
        "            "
      ],
      "metadata": {
        "id": "w25YOXQx4y5m"
      },
      "execution_count": 4,
      "outputs": []
    },
    {
      "cell_type": "markdown",
      "source": [
        "\n",
        " # **Q2.** Given an integer array nums and an integer val, remove all occurrences of val in nums in-place. The order of the elements may be changed. Then return the number of elements in nums which are not equal to val.\n",
        "\n",
        "Consider the number of elements in nums which are not equal to val be k, to get accepted, you need to do the following things:\n",
        "\n",
        "- Change the array nums such that the first k elements of nums contain the elements which are not equal to val. The remaining elements of nums are not important as well as the size of nums.\n",
        "- Return k.\n",
        "\n",
        "**Example :**\n",
        "Input: nums = [3,2,2,3], val = 3\n",
        "Output: 2, nums = [2,2,_*,_*]\n",
        "\n",
        "**Explanation:** Your function should return k = 2, with the first two elements of nums being 2. It does not matter what you leave beyond the returned k (hence they are underscores)[\n",
        "\n"
      ],
      "metadata": {
        "id": "w3Equ10t-k4k"
      }
    },
    {
      "cell_type": "code",
      "source": [
        "class Solution(object):\n",
        "    def removeElement(self, nums, val):\n",
        "        # Counter for keeping track of elements other than val\n",
        "        count = 0\n",
        "        # Loop through all the elements of the array\n",
        "        for i in range(len(nums)):\n",
        "            # If the element is not val\n",
        "            if nums[i] != val:\n",
        "                nums[count] = nums[i]\n",
        "                count += 1\n",
        "        return count"
      ],
      "metadata": {
        "id": "_xAs_55z-fpk"
      },
      "execution_count": 5,
      "outputs": []
    },
    {
      "cell_type": "markdown",
      "source": [
        "\n",
        " # **Q3.** Given a sorted array of distinct integers and a target value, return the index if the target is found. If not, return the index where it would be if it were inserted in order.\n",
        "\n",
        "You must write an algorithm with O(log n) runtime complexity.\n",
        "\n",
        "**Example 1:**\n",
        "Input: nums = [1,3,5,6], target = 5\n",
        "\n",
        "Output: 2\n",
        "\n"
      ],
      "metadata": {
        "id": "Ijc7MkQb__Qz"
      }
    },
    {
      "cell_type": "code",
      "source": [
        "class Solution(object):\n",
        "    def searchInsert(self, nums, target):\n",
        "        start, end = 0, len(nums) - 1\n",
        "        ans = len(nums) # Default answer when target is greater than all elements\n",
        "        \n",
        "        while start <= end:\n",
        "            mid = (start + end) / 2\n",
        "            \n",
        "            if nums[mid] == target:\n",
        "                return mid\n",
        "            elif nums[mid] < target:\n",
        "                start = mid + 1\n",
        "            else:\n",
        "                ans = mid # Update the answer to the current index\n",
        "                end = mid - 1\n",
        "                \n",
        "        return ans\n"
      ],
      "metadata": {
        "id": "m9JTsqsCARWk"
      },
      "execution_count": 6,
      "outputs": []
    },
    {
      "cell_type": "markdown",
      "source": [
        "\n",
        " # **Q4.** You are given a large integer represented as an integer array digits, where each digits[i] is the ith digit of the integer. The digits are ordered from most significant to least significant in left-to-right order. The large integer does not contain any leading 0's.\n",
        "\n",
        "Increment the large integer by one and return the resulting array of digits.\n",
        "\n",
        "**Example 1:**\n",
        "Input: digits = [1,2,3]\n",
        "Output: [1,2,4]\n",
        "\n",
        "**Explanation:** The array represents the integer 123.\n",
        "\n",
        "Incrementing by one gives 123 + 1 = 124.\n",
        "Thus, the result should be [1,2,4].\n",
        "\n"
      ],
      "metadata": {
        "id": "MuySXQIlA5nP"
      }
    },
    {
      "cell_type": "code",
      "source": [
        "class Solution(object):\n",
        "    def plusOne(self, digits):\n",
        "        \"\"\"\n",
        "        :type digits: List[int]\n",
        "        :rtype: List[int]\n",
        "        \"\"\"\n",
        "        digits=[str(i) for i in digits]\n",
        "        s=''.join(digits)\n",
        "        a=int(s)+1\n",
        "        l=list(str(a))\n",
        "        l=[int(i) for i in l]\n",
        "        return l"
      ],
      "metadata": {
        "id": "Ss80YjdYBBSS"
      },
      "execution_count": 7,
      "outputs": []
    },
    {
      "cell_type": "markdown",
      "source": [
        "\n",
        "#  **Q5.** You are given two integer arrays nums1 and nums2, sorted in non-decreasing order, and two integers m and n, representing the number of elements in nums1 and nums2 respectively.\n",
        "\n",
        "Merge nums1 and nums2 into a single array sorted in non-decreasing order.\n",
        "\n",
        "The final sorted array should not be returned by the function, but instead be stored inside the array nums1. To accommodate this, nums1 has a length of m + n, where the first m elements denote the elements that should be merged, and the last n elements are set to 0 and should be ignored. nums2 has a length of n.\n",
        "\n",
        "**Example 1:**\n",
        "Input: nums1 = [1,2,3,0,0,0], m = 3, nums2 = [2,5,6], n = 3\n",
        "Output: [1,2,2,3,5,6]\n",
        "\n",
        "**Explanation:** The arrays we are merging are [1,2,3] and [2,5,6].\n",
        "The result of the merge is [1,2,2,3,5,6] with the underlined elements coming from nums1.\n",
        "\n"
      ],
      "metadata": {
        "id": "cwiVA25yBT0U"
      }
    },
    {
      "cell_type": "code",
      "source": [
        "class Solution(object):\n",
        "    def merge(self, nums1, m, nums2, n):\n",
        "        i = m - 1\n",
        "        j = n - 1\n",
        "        k = m + n - 1\n",
        "        \n",
        "        while j >= 0:\n",
        "            if i >= 0 and nums1[i] > nums2[j]:\n",
        "                nums1[k] = nums1[i]\n",
        "                i -= 1\n",
        "            else:\n",
        "                nums1[k] = nums2[j]\n",
        "                j -= 1\n",
        "            k -= 1"
      ],
      "metadata": {
        "id": "5nl8w9AVBe2o"
      },
      "execution_count": 10,
      "outputs": []
    },
    {
      "cell_type": "markdown",
      "source": [
        "\n",
        "# **Q6.** Given an integer array nums, return true if any value appears at least twice in the array, and return false if every element is distinct.\n",
        "\n",
        "**Example 1:**\n",
        "Input: nums = [1,2,3,1]\n",
        "\n",
        "Output: true\n",
        "\n"
      ],
      "metadata": {
        "id": "OSC-BECxCa6J"
      }
    },
    {
      "cell_type": "code",
      "source": [
        "# Time complexity: O(n)\n",
        "# Space complexity: O(n)\n",
        "class Solution(object):\n",
        "    def containsDuplicate(self, nums):\n",
        "        hset = set()\n",
        "        for idx in nums:\n",
        "            if idx in hset:\n",
        "                return True\n",
        "            else:\n",
        "                hset.add(idx)"
      ],
      "metadata": {
        "id": "kZkIxIv2ClQF"
      },
      "execution_count": 11,
      "outputs": []
    },
    {
      "cell_type": "markdown",
      "source": [
        "\n",
        " # **Q7.** Given an integer array nums, move all 0's to the end of it while maintaining the relative order of the nonzero elements.\n",
        "\n",
        "Note that you must do this in-place without making a copy of the array.\n",
        "\n",
        "**Example 1:**\n",
        "Input: nums = [0,1,0,3,12]\n",
        "Output: [1,3,12,0,0]\n",
        "\n"
      ],
      "metadata": {
        "id": "5KyZpT4jDBDs"
      }
    },
    {
      "cell_type": "code",
      "source": [
        "class Solution(object):\n",
        "    def moveZeroes(self, nums):\n",
        "        n=len(nums)\n",
        "        for i in range(0,n):\n",
        "            if nums[i]==0:\n",
        "                nums.remove(nums[i])\n",
        "                nums.append(0)\n",
        "        return nums"
      ],
      "metadata": {
        "id": "0L9utAqRDIG-"
      },
      "execution_count": 12,
      "outputs": []
    },
    {
      "cell_type": "markdown",
      "source": [
        "#b**Q8.** You have a set of integers s, which originally contains all the numbers from 1 to n. Unfortunately, due to some error, one of the numbers in s got duplicated to another number in the set, which results in repetition of one number and loss of another number.\n",
        "\n",
        "You are given an integer array nums representing the data status of this set after the error.\n",
        "\n",
        "Find the number that occurs twice and the number that is missing and return them in the form of an array.\n",
        "\n",
        "**Example 1:**\n",
        "Input: nums = [1,2,2,4]\n",
        "Output: [2,3]\n",
        "\n"
      ],
      "metadata": {
        "id": "q-5OsLfhD3Zk"
      }
    },
    {
      "cell_type": "code",
      "source": [
        "class Solution(object):\n",
        "    def findErrorNums(self, nums):\n",
        "        a , b = None, None\n",
        "        l = Counter(nums)\n",
        "        for i in range(1, len(nums)+1):\n",
        "            if i not in l:\n",
        "                a =i\n",
        "            if l[i]>1:\n",
        "                b =i\n",
        "        return[b,a]"
      ],
      "metadata": {
        "id": "ZyLLxTQvEcVM"
      },
      "execution_count": 13,
      "outputs": []
    }
  ]
}