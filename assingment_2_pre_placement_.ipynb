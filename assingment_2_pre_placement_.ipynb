{
  "nbformat": 4,
  "nbformat_minor": 0,
  "metadata": {
    "colab": {
      "provenance": []
    },
    "kernelspec": {
      "name": "python3",
      "display_name": "Python 3"
    },
    "language_info": {
      "name": "python"
    }
  },
  "cells": [
    {
      "cell_type": "markdown",
      "source": [
        "# 1. Given an integer array nums of 2n integers, group these integers into n pairs (a1, b1), (a2, b2),..., (an, bn) such that the sum of min(ai, bi) for all i is maximized. Return the maximized sum.\n",
        "\n",
        "Example 1:\n",
        "Input: nums = [1,4,3,2]\n",
        "Output: 4\n",
        "Explanation: All possible pairings (ignoring the ordering of elements) are:\n",
        "1. (1, 4), (2, 3) -> min(1, 4) + min(2, 3) = 1 + 2 = 3\n",
        "2. (1, 3), (2, 4) -> min(1, 3) + min(2, 4) = 1 + 2 = 3\n",
        "3. (1, 2), (3, 4) -> min(1, 2) + min(3, 4) = 1 + 3 = 4\n",
        "So the maximum possible sum is 4"
      ],
      "metadata": {
        "id": "0PmOmf-ezloa"
      }
    },
    {
      "cell_type": "code",
      "execution_count": 8,
      "metadata": {
        "id": "fIP7G0OIzfyd"
      },
      "outputs": [],
      "source": [
        "def array_partition_i(nums):\n",
        " \n",
        "  nums.sort()\n",
        "  sum = 0\n",
        "  for i in range(0, len(nums), 2):\n",
        "    sum += min(nums[i], nums[i + 1])\n",
        "\n",
        "  return sum\n"
      ]
    },
    {
      "cell_type": "code",
      "source": [
        "nums = [1, 4, 3, 2]\n",
        "\n",
        "print(array_partition_i(nums))\n"
      ],
      "metadata": {
        "colab": {
          "base_uri": "https://localhost:8080/"
        },
        "id": "1odWPD6z1Dvo",
        "outputId": "8791f371-be64-4c75-94fb-dc99b3483413"
      },
      "execution_count": 2,
      "outputs": [
        {
          "output_type": "stream",
          "name": "stdout",
          "text": [
            "4\n"
          ]
        }
      ]
    },
    {
      "cell_type": "markdown",
      "source": [
        " # 2. Alice has n candies, where the ith candy is of type candyType[i]. Alice noticed that she startedto gain weight, so she visited a doctor.The doctor advised Alice to only eat n / 2 of the candies she has (n is always even).Alice likes her candies very much, and she wants to eat the maximum number of different types of candies while still following the doctor's advice.\n",
        "Given the integer array candyType of length n, return the maximum number of different types\n",
        "of candies she can eat if she only eats n / 2 of them.\n",
        "\n",
        "\n",
        "Example 1:\n",
        "Input: candyType = [1,1,2,2,3,3]\n",
        "\n",
        "\n",
        "Output: 3\n",
        "Explanation: Alice can only eat 6 / 2 = 3 candies. Since there are only 3 types, she can eat one\n",
        "of each type."
      ],
      "metadata": {
        "id": "FV3VsAGg2mFM"
      }
    },
    {
      "cell_type": "code",
      "source": [
        "def distribute_candies(candyType):\n",
        " \n",
        "\n",
        "  # Sort the array.\n",
        "  candyType.sort()\n",
        "\n",
        "  # Count the number of unique types of candies.\n",
        "  num_unique_types = 0\n",
        "  for i in range(len(candyType) - 1):\n",
        "    if candyType[i] != candyType[i + 1]:\n",
        "      num_unique_types += 1\n",
        "\n",
        "  # Return the maximum number of candies Alice can eat.\n",
        "  return min(num_unique_types, len(candyType) // 2)\n"
      ],
      "metadata": {
        "id": "86DehXlD1UuM"
      },
      "execution_count": 7,
      "outputs": []
    },
    {
      "cell_type": "code",
      "source": [
        "candyType = [1, 1, 2, 2, 3, 3]\n",
        "\n",
        "print(distribute_candies(candyType))\n"
      ],
      "metadata": {
        "colab": {
          "base_uri": "https://localhost:8080/"
        },
        "id": "U9EBZ-Nb2780",
        "outputId": "d06c14fd-8580-407a-b823-42c21863e48e"
      },
      "execution_count": 4,
      "outputs": [
        {
          "output_type": "stream",
          "name": "stdout",
          "text": [
            "2\n"
          ]
        }
      ]
    },
    {
      "cell_type": "markdown",
      "source": [
        "#3 We define a harmonious array as an array where the difference between its maximum value\n",
        "and its minimum value is exactly 1.\n",
        "Given an integer array nums, return the length of its longest harmonious subsequence\n",
        "among all its possible subsequences.\n",
        "A subsequence of an array is a sequence that can be derived from the array by deleting some\n",
        "or no elements without changing the order of the remaining elements.\n",
        "\n",
        "Example 1:\n",
        "Input: nums = [1,3,2,2,5,2,3,7]\n",
        "Output: 5\n",
        "Explanation: The longest harmonious subsequence is [3,2,2,2,3]."
      ],
      "metadata": {
        "id": "4-XSPIxY3MBK"
      }
    },
    {
      "cell_type": "code",
      "source": [
        "def longest_harmonious_subsequence(nums):\n",
        "  \n",
        "\n",
        "  # Create a map to store the number of times each element appears in the array.\n",
        "  counts = {}\n",
        "  for num in nums:\n",
        "    if num not in counts:\n",
        "      counts[num] = 0\n",
        "    counts[num] += 1\n",
        "\n",
        "  # Find the maximum value and minimum value in the array.\n",
        "  max_value = max(nums)\n",
        "  min_value = min(nums)\n",
        "\n",
        "  # Initialize the answer to 0.\n",
        "  answer = 0\n",
        "\n",
        "  # Iterate over the map, and for each element, add the number of times it appears to the\n",
        "  # answer if the difference between the element and the maximum value is exactly 1.\n",
        "  for num, count in counts.items():\n",
        "    if max_value - num == 1:\n",
        "      answer += count\n",
        "\n",
        "  return answer\n"
      ],
      "metadata": {
        "id": "kqHfJNeS2_RO"
      },
      "execution_count": 6,
      "outputs": []
    },
    {
      "cell_type": "code",
      "source": [
        "nums = [1, 3, 2, 2, 5, 2, 3, 7]\n",
        "\n",
        "print(longest_harmonious_subsequence(nums))\n"
      ],
      "metadata": {
        "colab": {
          "base_uri": "https://localhost:8080/"
        },
        "id": "lrsQSizN3WlK",
        "outputId": "13e17feb-957a-44e3-ae87-393784b7ba0d"
      },
      "execution_count": 9,
      "outputs": [
        {
          "output_type": "stream",
          "name": "stdout",
          "text": [
            "0\n"
          ]
        }
      ]
    },
    {
      "cell_type": "markdown",
      "source": [
        "# 4 You have a long flowerbed in which some of the plots are planted, and some are not.\n",
        "However, flowers cannot be planted in adjacent plots.\n",
        "Given an integer array flowerbed containing 0's and 1's, where 0 means empty and 1 means\n",
        "not empty, and an integer n, return true if n new flowers can be planted in the flowerbed\n",
        "without violating the no-adjacent-flowers rule and false otherwise.\n",
        "\n",
        "Example 1:\n",
        "Input: flowerbed = [1,0,0,0,1], n = 1\n",
        "Output: true"
      ],
      "metadata": {
        "id": "i_rPMXJ73wSY"
      }
    },
    {
      "cell_type": "code",
      "source": [
        "def can_place_flowers(flowerbed, n):\n",
        "  \n",
        "\n",
        "  # Initialize the answer to False.\n",
        "  answer = False\n",
        "\n",
        "  # Iterate over the flowerbed, and for each empty plot, check if it is possible to plant a flower\n",
        "  # there without violating the no-adjacent-flowers rule.\n",
        "  for i in range(len(flowerbed)):\n",
        "    if flowerbed[i] == 0 and (i == 0 or flowerbed[i - 1] == 1) and (i == len(flowerbed) - 1 or flowerbed[i + 1] == 1):\n",
        "      flowerbed[i] = 1\n",
        "      n -= 1\n",
        "      if n == 0:\n",
        "        answer = True\n",
        "        break\n",
        "\n",
        "  return answer\n"
      ],
      "metadata": {
        "id": "H4bsucE73o0h"
      },
      "execution_count": 10,
      "outputs": []
    },
    {
      "cell_type": "code",
      "source": [
        "flowerbed = [1, 0, 0, 0, 1]\n",
        "n = 1\n",
        "\n",
        "print(can_place_flowers(flowerbed, n))\n"
      ],
      "metadata": {
        "colab": {
          "base_uri": "https://localhost:8080/"
        },
        "id": "8UiafxcU4EFk",
        "outputId": "cbc1b44e-7b41-4438-896d-64f6c6b10751"
      },
      "execution_count": 11,
      "outputs": [
        {
          "output_type": "stream",
          "name": "stdout",
          "text": [
            "False\n"
          ]
        }
      ]
    },
    {
      "cell_type": "markdown",
      "source": [
        "# 5 Given an integer array nums, find three numbers whose product is maximum and return the\n",
        "maximum product.\n",
        "\n",
        "Example 1:\n",
        "Input: nums = [1,2,3]\n",
        "Output: 6"
      ],
      "metadata": {
        "id": "-PpL81Ym4atJ"
      }
    },
    {
      "cell_type": "code",
      "source": [
        "def maximum_product_of_three_numbers(nums):\n",
        "\n",
        "\n",
        "  # Sort the array in descending order.\n",
        "  nums.sort(reverse=True)\n",
        "\n",
        "  # Find the product of the three largest numbers.\n",
        "  product = nums[0] * nums[1] * nums[2]\n",
        "\n",
        "  # Return the maximum product.\n",
        "  return product\n"
      ],
      "metadata": {
        "id": "2eK0fmP34Etr"
      },
      "execution_count": 12,
      "outputs": []
    },
    {
      "cell_type": "code",
      "source": [
        "nums = [1, 2, 3]\n",
        "\n",
        "print(maximum_product_of_three_numbers(nums))\n"
      ],
      "metadata": {
        "colab": {
          "base_uri": "https://localhost:8080/"
        },
        "id": "7zqqORNq4rLt",
        "outputId": "59d32907-1e08-4c20-9b9a-cbaffebf9a01"
      },
      "execution_count": 13,
      "outputs": [
        {
          "output_type": "stream",
          "name": "stdout",
          "text": [
            "6\n"
          ]
        }
      ]
    },
    {
      "cell_type": "markdown",
      "source": [
        "Question 6\n",
        "\n",
        "Given an array of integers nums which is sorted in ascending order, and an integer target,\n",
        "write a function to search target in nums. If target exists, then return its index. Otherwise,\n",
        "return -1.\n",
        "\n",
        "You must write an algorithm with O(log n) runtime complexity.\n",
        "Input: nums = [-1,0,3,5,9,12], target = 9\n",
        "Output: 4\n",
        "Explanation: 9 exists in nums and its index is 4"
      ],
      "metadata": {
        "id": "6ug9pefX4zWd"
      }
    },
    {
      "cell_type": "code",
      "source": [
        "def search_in_sorted_array(nums, target):\n",
        "  \n",
        "\n",
        "  # Initialize the left and right pointers.\n",
        "  left = 0\n",
        "  right = len(nums) - 1\n",
        "\n",
        "  # While the left pointer is less than or equal to the right pointer,\n",
        "  # do the following:\n",
        "  while left <= right:\n",
        "\n",
        "    # Find the middle element.\n",
        "    mid = (left + right) // 2\n",
        "\n",
        "    # If the middle element is equal to target, then return its index.\n",
        "    if nums[mid] == target:\n",
        "      return mid\n",
        "\n",
        "    # If the middle element is less than target, then set the left pointer to the middle element + 1.\n",
        "    elif nums[mid] < target:\n",
        "      left = mid + 1\n",
        "\n",
        "    # If the middle element is greater than target, then set the right pointer to the middle element - 1.\n",
        "    else:\n",
        "      right = mid - 1\n",
        "\n",
        "  # If the left pointer is greater than the right pointer, then target does not exist.\n",
        "  return -1\n"
      ],
      "metadata": {
        "id": "fRuUadGP4uUQ"
      },
      "execution_count": 14,
      "outputs": []
    },
    {
      "cell_type": "code",
      "source": [
        "nums = [-1, 0, 3, 5, 9, 12]\n",
        "target = 9\n",
        "\n",
        "print(search_in_sorted_array(nums, target))\n"
      ],
      "metadata": {
        "colab": {
          "base_uri": "https://localhost:8080/"
        },
        "id": "bytzbLV75F92",
        "outputId": "1dd32e49-a5c5-4d45-f2cc-0c69597689f0"
      },
      "execution_count": 15,
      "outputs": [
        {
          "output_type": "stream",
          "name": "stdout",
          "text": [
            "4\n"
          ]
        }
      ]
    },
    {
      "cell_type": "markdown",
      "source": [
        "#Question 7\n",
        "\n",
        "An array is monotonic if it is either monotone increasing or monotone decreasing.\n",
        "An array nums is monotone increasing if for all i <= j, nums[i] <= nums[j]. An array nums is\n",
        "monotone decreasing if for all i <= j, nums[i] >= nums[j].\n",
        "Given an integer array nums, return true if the given array is monotonic, or false otherwise.\n",
        "\n",
        "Example 1:\n",
        "Input: nums = [1,2,2,3]\n",
        "Output: true"
      ],
      "metadata": {
        "id": "n_v-RRgB5Qni"
      }
    },
    {
      "cell_type": "code",
      "source": [
        "def is_monotonic(nums):\n",
        " \n",
        "  # Initialize the increasing and decreasing flags.\n",
        "  increasing = True\n",
        "  decreasing = True\n",
        "\n",
        "  # Iterate over the array.\n",
        "  for i in range(1, len(nums)):\n",
        "\n",
        "    # If the current element is less than the previous element, then the array is not increasing.\n",
        "    if nums[i] < nums[i - 1]:\n",
        "      increasing = False\n",
        "\n",
        "    # If the current element is greater than the previous element, then the array is not decreasing.\n",
        "    if nums[i] > nums[i - 1]:\n",
        "      decreasing = False\n",
        "\n",
        "  # If the array is not increasing and not decreasing, then it is not monotonic.\n",
        "  return increasing or decreasing\n"
      ],
      "metadata": {
        "id": "aXDKQa7K5IfF"
      },
      "execution_count": 16,
      "outputs": []
    },
    {
      "cell_type": "code",
      "source": [
        "nums = [1, 2, 2, 3]\n",
        "\n",
        "print(is_monotonic(nums))\n"
      ],
      "metadata": {
        "colab": {
          "base_uri": "https://localhost:8080/"
        },
        "id": "70srnARm5dVg",
        "outputId": "cb751cbb-b503-45b0-c9ce-f4a877ec6de3"
      },
      "execution_count": 17,
      "outputs": [
        {
          "output_type": "stream",
          "name": "stdout",
          "text": [
            "True\n"
          ]
        }
      ]
    },
    {
      "cell_type": "markdown",
      "source": [
        "#Question 8\n",
        "\n",
        "You are given an integer array nums and an integer k.\n",
        "In one operation, you can choose any index i where 0 <= i < nums.length and change nums[i]\n",
        "to nums[i] + x where x is an integer from the range [-k, k]. You can apply this operation at\n",
        "most once for each index i.\n",
        "The score of nums is the difference between the maximum and minimum elements in nums.\n",
        "Return the minimum score of nums after applying the mentioned operation at most once for\n",
        "each index in it.\n",
        "\n",
        "Example 1:\n",
        "Input: nums = [1], k = 0\n",
        "\n",
        "Output: 0\n",
        "Explanation: The score is max(nums) - min(nums) = 1 - 1 = 0.\n",
        "Pre Placement Training Program | iNeuron"
      ],
      "metadata": {
        "id": "QQ8N7O1g5k3I"
      }
    },
    {
      "cell_type": "code",
      "source": [
        "def min_score(nums, k):\n",
        " \n",
        "\n",
        "  # Initialize the minimum score.\n",
        "  min_score = float(\"inf\")\n",
        "\n",
        "  # Iterate over all possible scores.\n",
        "  for i in range(-k, k + 1):\n",
        "\n",
        "    # Calculate the score for the current value of i.\n",
        "    score = max(nums) - min(nums + i)\n",
        "\n",
        "    # Update the minimum score if the current score is smaller.\n",
        "    min_score = min(min_score, score)\n",
        "\n",
        "  # Return the minimum score.\n",
        "  return min_score\n"
      ],
      "metadata": {
        "id": "8ExKIVJ55gfM"
      },
      "execution_count": 18,
      "outputs": []
    },
    {
      "cell_type": "code",
      "source": [
        "class Solution(object):\n",
        "    def smallestRangeI(self, nums, k):\n",
        "        \"\"\"\n",
        "        :type nums: List[int]\n",
        "        :type k: int\n",
        "        :rtype: int\n",
        "        \"\"\"\n",
        "        return max(0, max(nums) - min(nums) - 2*k)"
      ],
      "metadata": {
        "id": "7QTXdSJV57G6"
      },
      "execution_count": 20,
      "outputs": []
    },
    {
      "cell_type": "code",
      "source": [],
      "metadata": {
        "id": "BHJRRGcj5_CQ"
      },
      "execution_count": null,
      "outputs": []
    }
  ]
}