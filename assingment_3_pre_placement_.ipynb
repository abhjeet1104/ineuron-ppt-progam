{
  "nbformat": 4,
  "nbformat_minor": 0,
  "metadata": {
    "colab": {
      "provenance": []
    },
    "kernelspec": {
      "name": "python3",
      "display_name": "Python 3"
    },
    "language_info": {
      "name": "python"
    }
  },
  "cells": [
    {
      "cell_type": "markdown",
      "source": [
        "# Question 1\n",
        "\n",
        "Given an integer array nums of length n and an integer target, find three integersin nums such that the sum is closest to the target.Return the sum of the three integers.You may assume that each input would have exactly one solution.\n",
        "\n",
        "Example 1:\n",
        "Input: nums = [-1,2,1,-4], target = 1Output: 2\n",
        "Explanation:\n",
        "The sum that is closest to the target is 2. (-1 + 2 + 1 = 2)."
      ],
      "metadata": {
        "id": "NSci09GmF-e4"
      }
    },
    {
      "cell_type": "code",
      "execution_count": 1,
      "metadata": {
        "id": "iFaz6_ZRFzTr"
      },
      "outputs": [],
      "source": [
        "def three_sum_closest(nums, target):\n",
        " \n",
        "  # Sort the array.\n",
        "  nums.sort()\n",
        "\n",
        "  # Initialize the minimum difference.\n",
        "  min_diff = float('inf')\n",
        "  min_sum = None\n",
        "\n",
        "  # Iterate over all possible triplets.\n",
        "  for i in range(len(nums) - 2):\n",
        "    for j in range(i + 1, len(nums) - 1):\n",
        "      for k in range(j + 1, len(nums)):\n",
        "        sum_of_triplet = nums[i] + nums[j] + nums[k]\n",
        "        diff = abs(sum_of_triplet - target)\n",
        "\n",
        "        # Update the minimum difference and sum if the current triplet is closer to the target.\n",
        "        if diff < min_diff:\n",
        "          min_diff = diff\n",
        "          min_sum = sum_of_triplet\n",
        "\n",
        "  return min_sum\n"
      ]
    },
    {
      "cell_type": "code",
      "source": [
        "nums = [-1, 2, 1, -4]\n",
        "target = 1\n",
        "\n",
        "print(three_sum_closest(nums, target))\n"
      ],
      "metadata": {
        "colab": {
          "base_uri": "https://localhost:8080/"
        },
        "id": "a1D6NpRCGSCW",
        "outputId": "3e9189e2-eb4e-4db2-cd13-5de91d4d3e52"
      },
      "execution_count": 2,
      "outputs": [
        {
          "output_type": "stream",
          "name": "stdout",
          "text": [
            "2\n"
          ]
        }
      ]
    },
    {
      "cell_type": "markdown",
      "source": [
        " # Question 2\n",
        "\n",
        "Given an array nums of n integers, return an array of all the unique quadruplets[nums[a], nums[b], nums[c], nums[d]] such that: ● 0 <= a, b, c, d < n ● a, b, c, and d are distinct. ● nums[a] + nums[b] + nums[c] + nums[d] == targetYou may return the answer in any order.\n",
        "\n",
        "Example 1:\n",
        "Input: nums = [1,0,-1,0,-2,2], target = 0Output: [[-2,-1,1,2],[-2,0,0,2],[-1,0,0,1]]"
      ],
      "metadata": {
        "id": "ZJFZjqkpGt-W"
      }
    },
    {
      "cell_type": "code",
      "source": [
        "def four_sum(nums, target):\n",
        " \n",
        "  # Sort the array.\n",
        "  nums.sort()\n",
        "\n",
        "  # Initialize the result list.\n",
        "  result = []\n",
        "\n",
        "  # Iterate over all possible quadruplets.\n",
        "  for i in range(len(nums) - 3):\n",
        "    for j in range(i + 1, len(nums) - 2):\n",
        "      for k in range(j + 1, len(nums) - 1):\n",
        "        for l in range(k + 1, len(nums)):\n",
        "          sum_of_quadruplet = nums[i] + nums[j] + nums[k] + nums[l]\n",
        "\n",
        "          # Check if the quadruplet is unique.\n",
        "          if sum_of_quadruplet == target and (i, j, k, l) not in result:\n",
        "            result.append((i, j, k, l))\n",
        "\n",
        "  return result\n"
      ],
      "metadata": {
        "id": "mkpsZtX4GYLx"
      },
      "execution_count": 3,
      "outputs": []
    },
    {
      "cell_type": "code",
      "source": [
        "nums = [1, 0, -1, 0, -2, 2]\n",
        "target = 0\n",
        "\n",
        "print(four_sum(nums, target))\n"
      ],
      "metadata": {
        "colab": {
          "base_uri": "https://localhost:8080/"
        },
        "id": "hrqDiPSzHUGC",
        "outputId": "16363e0e-8bd6-4226-d166-785980b36f6b"
      },
      "execution_count": 4,
      "outputs": [
        {
          "output_type": "stream",
          "name": "stdout",
          "text": [
            "[(0, 1, 4, 5), (0, 2, 3, 5), (1, 2, 3, 4)]\n"
          ]
        }
      ]
    },
    {
      "cell_type": "markdown",
      "source": [
        "# Question 3\n",
        "\n",
        "A permutation of an array of integers is an arrangement of its members into asequence or linear order.For example, for arr = [1,2,3], the following are all the permutations of arr:[1,2,3], [1,3,2], [2, 1, 3], [2, 3, 1], [3,1,2], [3,2,1].The next permutation of an array of integers is the next lexicographically greaterpermutation of its integer. More formally, if all the permutations of the array aresorted in one container according to their lexicographical order, then the nextpermutation of that array is the permutation that follows it in the sorted container.\n",
        "If such an arrangement is not possible, the array must be rearranged as thelowest possible order (i.e., sorted in ascending order).● For example, the next permutation of arr = [1,2,3] is [1,3,2].● Similarly, the next permutation of arr = [2,3,1] is [3,1,2].● While the next permutation of arr = [3,2,1] is [1,2,3] because [3,2,1] does nothave a lexicographical larger rearrangement.Given an array of integers nums, find the next permutation of nums.The replacement must be in place and use only constant extra memory.\n",
        "Example 1:\n",
        "\n",
        "Input: nums = [1,2,3]Output: [1,3,2]"
      ],
      "metadata": {
        "id": "kFjLBLoCHll4"
      }
    },
    {
      "cell_type": "code",
      "source": [
        "def next_permutation(nums):\n",
        "  \n",
        "\n",
        "  # Find the first index i such that nums[i] < nums[i + 1].\n",
        "  i = len(nums) - 2\n",
        "  while i >= 0 and nums[i] >= nums[i + 1]:\n",
        "    i -= 1\n",
        "\n",
        "  # If no such index exists, the array is already in the last possible permutation.\n",
        "  if i < 0:\n",
        "    return nums\n",
        "\n",
        "  # Find the smallest element j such that nums[j] > nums[i].\n",
        "  j = len(nums) - 1\n",
        "  while nums[j] <= nums[i]:\n",
        "    j -= 1\n",
        "\n",
        "  # Swap nums[i] and nums[j].\n",
        "  nums[i], nums[j] = nums[j], nums[i]\n",
        "\n",
        "  # Reverse the suffix of the array starting at index i + 1.\n",
        "  nums[i + 1:] = nums[i + 1:][::-1]\n",
        "\n",
        "  return nums\n"
      ],
      "metadata": {
        "id": "XiNAR_deHZZc"
      },
      "execution_count": 5,
      "outputs": []
    },
    {
      "cell_type": "code",
      "source": [
        "nums = [1, 2, 3]\n",
        "\n",
        "print(next_permutation(nums))\n"
      ],
      "metadata": {
        "colab": {
          "base_uri": "https://localhost:8080/"
        },
        "id": "8LGZqcBMH2a1",
        "outputId": "94145561-e654-49b4-8af0-1f531338015c"
      },
      "execution_count": 6,
      "outputs": [
        {
          "output_type": "stream",
          "name": "stdout",
          "text": [
            "[1, 3, 2]\n"
          ]
        }
      ]
    },
    {
      "cell_type": "markdown",
      "source": [
        "# Question 4\n",
        "\n",
        "Given a sorted array of distinct integers and a target value, return the index if thetarget is found. If not, return the index where it would be if it were inserted inorder.You must write an algorithm with O(log n) runtime complexity.\n",
        "\n",
        "Example 1:\n",
        "Input: nums = [1,3,5,6], target = 5Output: 2"
      ],
      "metadata": {
        "id": "Vrs7CZ05IJWU"
      }
    },
    {
      "cell_type": "code",
      "source": [
        "def binary_search(nums, target):\n",
        "    low = 0\n",
        "    high = len(nums) - 1\n",
        "\n",
        "    while low <= high:\n",
        "        mid = (low + high) // 2\n",
        "\n",
        "        if nums[mid] == target:\n",
        "            return mid\n",
        "        elif nums[mid] < target:\n",
        "            low = mid + 1\n",
        "        else:\n",
        "            high = mid - 1\n",
        "\n",
        "    # If the target is not found, return the index where it would be if it were inserted inorder.\n",
        "    return low\n"
      ],
      "metadata": {
        "id": "AhUjFVs4H85X"
      },
      "execution_count": 7,
      "outputs": []
    },
    {
      "cell_type": "code",
      "source": [
        "nums = [1, 3, 5, 6]\n",
        "target = 5\n",
        "\n",
        "index = binary_search(nums, target)\n",
        "\n",
        "print(index)\n"
      ],
      "metadata": {
        "colab": {
          "base_uri": "https://localhost:8080/"
        },
        "id": "pPIWJy8VIc2K",
        "outputId": "1d77b272-c97a-4868-b983-e9db3ef3c441"
      },
      "execution_count": 8,
      "outputs": [
        {
          "output_type": "stream",
          "name": "stdout",
          "text": [
            "2\n"
          ]
        }
      ]
    },
    {
      "cell_type": "markdown",
      "source": [
        " # Question 5\n",
        "\n",
        "You are given a large integer represented as an integer array digits, where eachdigits[i] is the ith digit of the integer. The digits are ordered from most significantto least significant in left-to-right order. The large integer does not contain anyleading 0's.Increment the large integer by one and return the resulting array of digits.\n",
        "\n",
        "Example 1:\n",
        "Input: digits = [1,2,3]Output: [1,2,4]\n",
        "Explanation:\n",
        "The array represents the integer 123.Incrementing by one gives 123 + 1 = 124.Thus, the result should be [1,2,4]."
      ],
      "metadata": {
        "id": "qfaXt65eLf3C"
      }
    },
    {
      "cell_type": "code",
      "source": [
        "def increment_integer(digits):\n",
        "    carry = 1\n",
        "    result = []\n",
        "\n",
        "    for i in range(len(digits) - 1, -1, -1):\n",
        "        digit = digits[i] + carry\n",
        "        if digit < 10:\n",
        "            carry = 0\n",
        "        else:\n",
        "            digit -= 10\n",
        "\n",
        "        result.append(digit)\n",
        "\n",
        "    if carry == 1:\n",
        "        result.append(1)\n",
        "\n",
        "    return result\n"
      ],
      "metadata": {
        "id": "yBb21E4kIhcv"
      },
      "execution_count": 9,
      "outputs": []
    },
    {
      "cell_type": "code",
      "source": [
        "digits = [1, 2, 3]\n",
        "\n",
        "result = increment_integer(digits)\n",
        "\n",
        "print(result)\n"
      ],
      "metadata": {
        "colab": {
          "base_uri": "https://localhost:8080/"
        },
        "id": "bNfTji3BL8NG",
        "outputId": "fc4d3bb7-18e7-4187-ca60-f4062e3627ae"
      },
      "execution_count": 10,
      "outputs": [
        {
          "output_type": "stream",
          "name": "stdout",
          "text": [
            "[4, 2, 1]\n"
          ]
        }
      ]
    },
    {
      "cell_type": "markdown",
      "source": [
        " # Question 6\n",
        "\n",
        "Given a non-empty array of integers nums, every element appears twice exceptfor one. Find that single one.You must implement a solution with a linear runtime complexity and use onlyconstant extra space.\n",
        "\n",
        "Example 1:\n",
        "Input: nums = [2,2,1]Output: 1"
      ],
      "metadata": {
        "id": "8GHNaUi3ML6v"
      }
    },
    {
      "cell_type": "code",
      "source": [
        "def find_single_element(nums):\n",
        "    seen = set()\n",
        "\n",
        "    for num in nums:\n",
        "        if num not in seen:\n",
        "            seen.add(num)\n",
        "        else:\n",
        "            seen.remove(num)\n",
        "\n",
        "    return seen.pop()\n"
      ],
      "metadata": {
        "id": "-EETwdxBMAoS"
      },
      "execution_count": 11,
      "outputs": []
    },
    {
      "cell_type": "code",
      "source": [
        "nums = [2, 2, 1]\n",
        "\n",
        "result = find_single_element(nums)\n",
        "\n",
        "print(result)\n"
      ],
      "metadata": {
        "colab": {
          "base_uri": "https://localhost:8080/"
        },
        "id": "QgHiXLOfMdR0",
        "outputId": "be798550-c731-4162-d4ce-3f02b46627ef"
      },
      "execution_count": 12,
      "outputs": [
        {
          "output_type": "stream",
          "name": "stdout",
          "text": [
            "1\n"
          ]
        }
      ]
    },
    {
      "cell_type": "markdown",
      "source": [
        " # Question 7\n",
        "\n",
        "You are given an inclusive range [lower, upper] and a sorted unique integer arraynums, where all elements are within the inclusive range.A number x is considered missing if x is in the range [lower, upper] and x is not innums.Return the shortest sorted list of ranges that exactly covers all the missingnumbers. That is, no element of nums is included in any of the ranges, and eachmissing number is covered by one of the ranges.\n",
        "\n",
        "Example 1:\n",
        "Input: nums = [0,1,3,50,75], lower = 0, upper = 99Output: [[2,2],[4,49],[51,74],[76,99]]\n",
        "Explanation:\n",
        "The ranges are:[2,2][4,49][51,74][76,99]"
      ],
      "metadata": {
        "id": "C0AF9VmPMxG0"
      }
    },
    {
      "cell_type": "code",
      "source": [
        "def find_missing_ranges(nums, lower, upper):\n",
        "    ranges = []\n",
        "\n",
        "    start = lower\n",
        "    for num in nums:\n",
        "        if num > start:\n",
        "            ranges.append([start, num - 1])\n",
        "            start = num\n",
        "\n",
        "    if start < upper:\n",
        "        ranges.append([start, upper])\n",
        "\n",
        "    return sorted(ranges)\n"
      ],
      "metadata": {
        "id": "fn_RH72qM28R"
      },
      "execution_count": 13,
      "outputs": []
    },
    {
      "cell_type": "code",
      "source": [
        "nums = [0, 1, 3, 50, 75]\n",
        "lower = 0\n",
        "upper = 99\n",
        "\n",
        "result = find_missing_ranges(nums, lower, upper)\n",
        "\n",
        "print(result)\n"
      ],
      "metadata": {
        "colab": {
          "base_uri": "https://localhost:8080/"
        },
        "id": "inCrfXP2M_WO",
        "outputId": "529635b5-b305-4542-97ac-e9c0e06b14a9"
      },
      "execution_count": 14,
      "outputs": [
        {
          "output_type": "stream",
          "name": "stdout",
          "text": [
            "[[0, 0], [1, 2], [3, 49], [50, 74], [75, 99]]\n"
          ]
        }
      ]
    },
    {
      "cell_type": "code",
      "source": [],
      "metadata": {
        "id": "ZIVstkQBNCU3"
      },
      "execution_count": null,
      "outputs": []
    }
  ]
}