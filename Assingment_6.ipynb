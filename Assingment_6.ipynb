{
  "nbformat": 4,
  "nbformat_minor": 0,
  "metadata": {
    "colab": {
      "provenance": []
    },
    "kernelspec": {
      "name": "python3",
      "display_name": "Python 3"
    },
    "language_info": {
      "name": "python"
    }
  },
  "cells": [
    {
      "cell_type": "markdown",
      "source": [
        "\n",
        "💡 **Question 1**\n",
        "\n",
        "A permutation perm of n + 1 integers of all the integers in the range [0, n] can be represented as a string s of length n where:\n",
        "\n",
        "- s[i] == 'I' if perm[i] < perm[i + 1], and\n",
        "- s[i] == 'D' if perm[i] > perm[i + 1].\n",
        "\n",
        "Given a string s, reconstruct the permutation perm and return it. If there are multiple valid permutations perm, return **any of them**.\n",
        "\n",
        "**Example 1:**\n",
        "\n",
        "**Input:** s = \"IDID\"\n",
        "\n",
        "**Output:**\n",
        "\n",
        "[0,4,1,3,2]\n",
        "\n"
      ],
      "metadata": {
        "id": "uEVjGGKz1GSb"
      }
    },
    {
      "cell_type": "code",
      "execution_count": 1,
      "metadata": {
        "id": "l_sTlU0G0_ED"
      },
      "outputs": [],
      "source": [
        "def reconstruct_permutation(s):\n",
        "  \n",
        "\n",
        "  n = len(s)\n",
        "  perm = [None] * (n + 1)\n",
        "  for i in range(n):\n",
        "    if s[i] == 'I':\n",
        "      perm[i] = i\n",
        "    else:\n",
        "      perm[i] = n - i - 1\n",
        "\n",
        "  # Check if the permutation is valid.\n",
        "  for i in range(n):\n",
        "    if perm[i] < perm[i + 1]:\n",
        "      if s[i] == 'D':\n",
        "        raise ValueError('Invalid permutation.')\n",
        "    elif perm[i] > perm[i + 1]:\n",
        "      if s[i] == 'I':\n",
        "        raise ValueError('Invalid permutation.')\n",
        "\n",
        "  return perm\n"
      ]
    },
    {
      "cell_type": "markdown",
      "source": [
        "\n",
        "💡 **Question 2**\n",
        "\n",
        "You are given an m x n integer matrix matrix with the following two properties:\n",
        "\n",
        "- Each row is sorted in non-decreasing order.\n",
        "- The first integer of each row is greater than the last integer of the previous row.\n",
        "\n",
        "Given an integer target, return true *if* target *is in* matrix *or* false *otherwise*.\n",
        "\n",
        "You must write a solution in O(log(m * n)) time complexity.\n",
        "\n",
        "**Example 1:**\n",
        "\n",
        "**Input:** matrix = [[1,3,5,7],[10,11,16,20],[23,30,34,60]], target = 3\n",
        "\n",
        "**Output:** true\n",
        "\n"
      ],
      "metadata": {
        "id": "y8Q6O7hI3KVc"
      }
    },
    {
      "cell_type": "code",
      "source": [
        "def find_target(matrix, target):\n",
        "  \n",
        "\n",
        "  m = len(matrix)\n",
        "  n = len(matrix[0])\n",
        "\n",
        "  # Find the row in which the target could be located.\n",
        "  low = 0\n",
        "  high = m - 1\n",
        "  while low <= high:\n",
        "    mid = (low + high) // 2\n",
        "    if target >= matrix[mid][0] and target <= matrix[mid][n - 1]:\n",
        "      break\n",
        "    elif target < matrix[mid][0]:\n",
        "      high = mid - 1\n",
        "    else:\n",
        "      low = mid + 1\n",
        "\n",
        "  # If the target is not in the row, then it is not in the matrix.\n",
        "  if low > high:\n",
        "    return False\n",
        "\n",
        "  # Do a binary search on the row to find the target.\n",
        "  low = 0\n",
        "  high = n - 1\n",
        "  while low <= high:\n",
        "    mid = (low + high) // 2\n",
        "    if matrix[low][mid] == target:\n",
        "      return True\n",
        "    elif matrix[low][mid] < target:\n",
        "      low = mid + 1\n",
        "    else:\n",
        "      high = mid - 1\n",
        "\n",
        "  return False\n"
      ],
      "metadata": {
        "id": "qp3binDa185v"
      },
      "execution_count": 6,
      "outputs": []
    },
    {
      "cell_type": "code",
      "source": [
        "matrix = [[1,3,5,7],[10,11,16,20],[23,30,34,60]]\n",
        "target = 3\n",
        "\n",
        "found = find_target(matrix, target)\n",
        "print(found)\n"
      ],
      "metadata": {
        "colab": {
          "base_uri": "https://localhost:8080/"
        },
        "id": "-fD-CgHO4EO-",
        "outputId": "ba962ef1-dca8-4099-c76d-b9852fd23323"
      },
      "execution_count": 7,
      "outputs": [
        {
          "output_type": "stream",
          "name": "stdout",
          "text": [
            "True\n"
          ]
        }
      ]
    },
    {
      "cell_type": "markdown",
      "source": [
        "\n",
        "💡 **Question 3**\n",
        "\n",
        "Given an array of integers arr, return *true if and only if it is a valid mountain array*.\n",
        "\n",
        "Recall that arr is a mountain array if and only if:\n",
        "\n",
        "- arr.length >= 3\n",
        "- There exists some i with 0 < i < arr.length - 1 such that:\n",
        "    - arr[0] < arr[1] < ... < arr[i - 1] < arr[i]\n",
        "    - arr[i] > arr[i + 1] > ... > arr[arr.length - 1]\n",
        "    **Example 1:**\n",
        "\n",
        "**Input:** arr = [2,1]\n",
        "\n",
        "**Output:**\n",
        "\n",
        "false\n"
      ],
      "metadata": {
        "id": "h47Lzxsz4Pkl"
      }
    },
    {
      "cell_type": "code",
      "source": [
        "def is_mountain_array(arr):\n",
        "  \n",
        "\n",
        "  if len(arr) < 3:\n",
        "    return False\n",
        "\n",
        "  # Find the index of the peak.\n",
        "  i = 1\n",
        "  while i < len(arr) - 1 and arr[i] < arr[i + 1]:\n",
        "    i += 1\n",
        "\n",
        "  if i == len(arr) - 1 or arr[i] < arr[i - 1]:\n",
        "    return False\n",
        "\n",
        "  # Check if the elements after the peak are decreasing.\n",
        "  for j in range(i + 1, len(arr)):\n",
        "    if arr[j] >= arr[j - 1]:\n",
        "      return False\n",
        "\n",
        "  return True\n"
      ],
      "metadata": {
        "id": "WkObdUKZ4Hta"
      },
      "execution_count": 8,
      "outputs": []
    },
    {
      "cell_type": "code",
      "source": [
        "arr = [2, 1]\n",
        "\n",
        "is_mountain = is_mountain_array(arr)\n",
        "print(is_mountain)\n"
      ],
      "metadata": {
        "colab": {
          "base_uri": "https://localhost:8080/"
        },
        "id": "1aTlGG6f4mZI",
        "outputId": "1d4c2f9e-645f-4198-b3d4-56a311d0f87c"
      },
      "execution_count": 9,
      "outputs": [
        {
          "output_type": "stream",
          "name": "stdout",
          "text": [
            "False\n"
          ]
        }
      ]
    },
    {
      "cell_type": "markdown",
      "source": [
        "\n",
        "💡 **Question 4**\n",
        "\n",
        "Given a binary array nums, return *the maximum length of a contiguous subarray with an equal number of* 0 *and* 1.\n",
        "\n",
        "**Example 1:**\n",
        "\n",
        "**Input:** nums = [0,1]\n",
        "\n",
        "**Output:** 2\n",
        "\n",
        "**Explanation:**\n",
        "\n",
        "[0, 1] is the longest contiguous subarray with an equal number of 0 and 1.\n",
        "\n"
      ],
      "metadata": {
        "id": "YOLJ22_l41dn"
      }
    },
    {
      "cell_type": "code",
      "source": [
        "def longest_subarray_with_equal_zero_and_one(nums):\n",
        " \n",
        "\n",
        "  n = len(nums)\n",
        "  count = 0\n",
        "  start = 0\n",
        "  max_len = 0\n",
        "\n",
        "  for i in range(n):\n",
        "    if nums[i] == 0:\n",
        "      count -= 1\n",
        "    else:\n",
        "      count += 1\n",
        "\n",
        "    if count == 0:\n",
        "      max_len = i - start + 1\n",
        "    elif count < 0:\n",
        "      start = i + 1\n",
        "      count = 0\n",
        "\n",
        "  return max_len\n"
      ],
      "metadata": {
        "id": "TfUL3lep4p9D"
      },
      "execution_count": 10,
      "outputs": []
    },
    {
      "cell_type": "code",
      "source": [
        "nums = [0, 1]\n",
        "\n",
        "max_len = longest_subarray_with_equal_zero_and_one(nums)\n",
        "print(max_len)\n"
      ],
      "metadata": {
        "colab": {
          "base_uri": "https://localhost:8080/"
        },
        "id": "3Up0AIij5Ey_",
        "outputId": "2736a850-6942-4f3a-80d0-209f7b2de413"
      },
      "execution_count": 11,
      "outputs": [
        {
          "output_type": "stream",
          "name": "stdout",
          "text": [
            "0\n"
          ]
        }
      ]
    },
    {
      "cell_type": "markdown",
      "source": [
        "\n",
        "💡 **Question 5**\n",
        "\n",
        "The **product sum** of two equal-length arrays a and b is equal to the sum of a[i] * b[i] for all 0 <= i < a.length (**0-indexed**).\n",
        "\n",
        "- For example, if a = [1,2,3,4] and b = [5,2,3,1], the **product sum** would be 1*5 + 2*2 + 3*3 + 4*1 = 22.\n",
        "\n",
        "Given two arrays nums1 and nums2 of length n, return *the **minimum product sum** if you are allowed to **rearrange** the **order** of the elements in* nums1.\n",
        "\n",
        "**Example 1:**\n",
        "\n",
        "**Input:** nums1 = [5,3,4,2], nums2 = [4,2,2,5]\n",
        "\n",
        "**Output:** 40\n",
        "\n",
        "**Explanation:**\n",
        "\n",
        "We can rearrange nums1 to become [3,5,4,2]. The product sum of [3,5,4,2] and [4,2,2,5] is 3*4 + 5*2 + 4*2 + 2*5 = 40.\n",
        "\n"
      ],
      "metadata": {
        "id": "2yMAV9Xg5YBE"
      }
    },
    {
      "cell_type": "code",
      "source": [
        "def min_product_sum(nums1, nums2):\n",
        "  \n",
        "  n = len(nums1)\n",
        "  nums1.sort()\n",
        "  nums2.sort(reverse=True)\n",
        "\n",
        "  product_sum = 0\n",
        "  for i in range(n):\n",
        "    product_sum += nums1[i] * nums2[i]\n",
        "\n",
        "  return product_sum\n"
      ],
      "metadata": {
        "id": "gsgdA7M05MR7"
      },
      "execution_count": 12,
      "outputs": []
    },
    {
      "cell_type": "code",
      "source": [
        "nums1 = [5, 3, 4, 2]\n",
        "nums2 = [4, 2, 2, 5]\n",
        "\n",
        "min_product_sum = min_product_sum(nums1, nums2)\n",
        "print(min_product_sum)\n"
      ],
      "metadata": {
        "colab": {
          "base_uri": "https://localhost:8080/"
        },
        "id": "g5gLaZw95kfA",
        "outputId": "c15a5a0d-0b90-4f3f-a085-5ebea01bea40"
      },
      "execution_count": 13,
      "outputs": [
        {
          "output_type": "stream",
          "name": "stdout",
          "text": [
            "40\n"
          ]
        }
      ]
    },
    {
      "cell_type": "markdown",
      "source": [
        "\n",
        "💡 **Question 6**\n",
        "\n",
        "An integer array original is transformed into a **doubled** array changed by appending **twice the value** of every element in original, and then randomly **shuffling** the resulting array.\n",
        "\n",
        "Given an array changed, return original *if* changed *is a **doubled** array. If* changed *is not a **doubled** array, return an empty array. The elements in* original *may be returned in **any** order*.\n",
        "\n",
        "**Example 1:**\n",
        "\n",
        "**Input:** changed = [1,3,4,2,6,8]\n",
        "\n",
        "**Output:** [1,3,4]\n",
        "\n",
        "**Explanation:** One possible original array could be [1,3,4]:\n",
        "\n",
        "- Twice the value of 1 is 1 * 2 = 2.\n",
        "- Twice the value of 3 is 3 * 2 = 6.\n",
        "- Twice the value of 4 is 4 * 2 = 8.\n",
        "\n",
        "Other original arrays could be [4,3,1] or [3,1,4].\n",
        "\n"
      ],
      "metadata": {
        "id": "yzUjkjt064Aw"
      }
    },
    {
      "cell_type": "code",
      "source": [
        "def find_original_array(changed):\n",
        " \n",
        "\n",
        "  n = len(changed)\n",
        "  original = [None] * n\n",
        "  seen = set()\n",
        "\n",
        "  for i in range(n):\n",
        "    if changed[i] not in seen:\n",
        "      original[i] = changed[i]\n",
        "      seen.add(changed[i])\n",
        "    else:\n",
        "      original[i] = changed[i] * 2\n",
        "\n",
        "  # Check if the elements in original are all unique.\n",
        "  for i in range(n):\n",
        "    for j in range(i + 1, n):\n",
        "      if original[i] == original[j]:\n",
        "        return []\n",
        "\n",
        "  return original\n"
      ],
      "metadata": {
        "id": "ZuHxmxt65opD"
      },
      "execution_count": 14,
      "outputs": []
    },
    {
      "cell_type": "code",
      "source": [
        "changed = [1, 3, 4, 2, 6, 8]\n",
        "\n",
        "original = find_original_array(changed)\n",
        "print(original)\n"
      ],
      "metadata": {
        "colab": {
          "base_uri": "https://localhost:8080/"
        },
        "id": "ZayJduSp7RRn",
        "outputId": "fc158a6f-2b00-42c1-d09f-370fc3abafe8"
      },
      "execution_count": 15,
      "outputs": [
        {
          "output_type": "stream",
          "name": "stdout",
          "text": [
            "[1, 3, 4, 2, 6, 8]\n"
          ]
        }
      ]
    },
    {
      "cell_type": "markdown",
      "source": [
        "\n",
        "💡 **Question 7**\n",
        "\n",
        "Given a positive integer n, generate an n x n matrix filled with elements from 1 to n2 in spiral order.\n",
        "\n",
        "**Example 1:**\n",
        "\n",
        "**Input:** n = 3\n",
        "\n",
        "**Output:** [[1,2,3],[8,9,4],[7,6,5]]\n",
        "\n",
        "</aside>"
      ],
      "metadata": {
        "id": "SicPUGyP7h8b"
      }
    },
    {
      "cell_type": "code",
      "source": [
        "def spiral_matrix(n):\n",
        " \n",
        "\n",
        "  matrix = [[None] * n for i in range(n)]\n",
        "  num = 1\n",
        "  row = 0\n",
        "  col = 0\n",
        "  direction = 0\n",
        "\n",
        "  while num <= n * n:\n",
        "    if direction == 0:\n",
        "      for i in range(col, n):\n",
        "        matrix[row][i] = num\n",
        "        num += 1\n",
        "      row += 1\n",
        "    elif direction == 1:\n",
        "      for i in range(row, n):\n",
        "        matrix[i][col] = num\n",
        "        num += 1\n",
        "      col += 1\n",
        "    elif direction == 2:\n",
        "      for i in range(col, -1, -1):\n",
        "        matrix[row][i] = num\n",
        "        num += 1\n",
        "      row -= 1\n",
        "    elif direction == 3:\n",
        "      for i in range(row, -1, -1):\n",
        "        matrix[i][col] = num\n",
        "        num += 1\n",
        "      col -= 1\n",
        "    direction = (direction + 1) % 4\n",
        "\n",
        "  return matrix\n"
      ],
      "metadata": {
        "id": "OczRscyX7UJo"
      },
      "execution_count": 16,
      "outputs": []
    },
    {
      "cell_type": "code",
      "source": [
        "n = 3\n",
        "\n",
        "matrix = spiral_matrix(n)\n",
        "print(matrix)\n"
      ],
      "metadata": {
        "colab": {
          "base_uri": "https://localhost:8080/"
        },
        "id": "JK1bVPY48aWF",
        "outputId": "5756c8a7-d0e1-4144-8f2a-446f4b0309b6"
      },
      "execution_count": 17,
      "outputs": [
        {
          "output_type": "stream",
          "name": "stdout",
          "text": [
            "[[9, 10, 11], [7, 6, None], [5, None, None]]\n"
          ]
        }
      ]
    },
    {
      "cell_type": "markdown",
      "source": [
        "<aside>\n",
        "💡 **Question 8**\n",
        "\n",
        "Given two [sparse matrices](https://en.wikipedia.org/wiki/Sparse_matrix) mat1 of size m x k and mat2 of size k x n, return the result of mat1 x mat2. You may assume that multiplication is always possible.\n",
        "\n",
        "**Example 1:**\n",
        "\n",
        "**Input:** mat1 = [[1,0,0],[-1,0,3]], mat2 = [[7,0,0],[0,0,0],[0,0,1]]\n",
        "\n",
        "**Output:**\n",
        "\n",
        "[[7,0,0],[-7,0,3]]\n",
        "\n",
        "</aside>"
      ],
      "metadata": {
        "id": "nMBnTuO28l8z"
      }
    },
    {
      "cell_type": "code",
      "source": [
        "def spiral_matrix(n):\n",
        " \n",
        "\n",
        "  matrix = [[None] * n for i in range(n)]\n",
        "  num = 1\n",
        "  row = 0\n",
        "  col = 0\n",
        "  direction = 0\n",
        "\n",
        "  while num <= n * n:\n",
        "    if direction == 0:\n",
        "      for i in range(col, n):\n",
        "        matrix[row][i] = num\n",
        "        num += 1\n",
        "      row += 1\n",
        "    elif direction == 1:\n",
        "      for i in range(row, n):\n",
        "        matrix[i][col] = num\n",
        "        num += 1\n",
        "      col += 1\n",
        "    elif direction == 2:\n",
        "      for i in range(col, -1, -1):\n",
        "        matrix[row][i] = num\n",
        "        num += 1\n",
        "      row -= 1\n",
        "    elif direction == 3:\n",
        "      for i in range(row, -1, -1):\n",
        "        matrix[i][col] = num\n",
        "        num += 1\n",
        "      col -= 1\n",
        "    direction = (direction + 1) % 4\n",
        "\n",
        "  return matrix\n"
      ],
      "metadata": {
        "id": "wBKMvyxs8eP5"
      },
      "execution_count": 18,
      "outputs": []
    },
    {
      "cell_type": "code",
      "source": [
        "n = 3\n",
        "\n",
        "matrix = spiral_matrix(n)\n",
        "print(matrix)\n"
      ],
      "metadata": {
        "colab": {
          "base_uri": "https://localhost:8080/"
        },
        "id": "GZZnDOGBA-ZA",
        "outputId": "a7572291-37e1-4355-f9f4-059b22335948"
      },
      "execution_count": 19,
      "outputs": [
        {
          "output_type": "stream",
          "name": "stdout",
          "text": [
            "[[9, 10, 11], [7, 6, None], [5, None, None]]\n"
          ]
        }
      ]
    },
    {
      "cell_type": "code",
      "source": [],
      "metadata": {
        "id": "fOOajouaBCC_"
      },
      "execution_count": null,
      "outputs": []
    }
  ]
}