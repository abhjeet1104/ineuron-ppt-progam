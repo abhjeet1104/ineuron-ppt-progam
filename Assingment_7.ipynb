{
  "nbformat": 4,
  "nbformat_minor": 0,
  "metadata": {
    "colab": {
      "provenance": []
    },
    "kernelspec": {
      "name": "python3",
      "display_name": "Python 3"
    },
    "language_info": {
      "name": "python"
    }
  },
  "cells": [
    {
      "cell_type": "markdown",
      "source": [
        "<aside>\n",
        "💡 **Question 1**\n",
        "\n",
        "Given two strings s and t, *determine if they are isomorphic*.\n",
        "\n",
        "Two strings s and t are isomorphic if the characters in s can be replaced to get t.\n",
        "\n",
        "All occurrences of a character must be replaced with another character while preserving the order of characters. No two characters may map to the same character, but a character may map to itself.\n",
        "\n",
        "**Example 1:**\n",
        "\n",
        "**Input:** s = \"egg\", t = \"add\"\n",
        "\n",
        "**Output:** true\n",
        "\n",
        "</aside>"
      ],
      "metadata": {
        "id": "5eywNMTtDuuH"
      }
    },
    {
      "cell_type": "code",
      "source": [
        "def is_isomorphic(s, t):\n",
        "  if len(s) != len(t):\n",
        "    return False\n",
        "\n",
        "  mapping = {}\n",
        "  for i in range(len(s)):\n",
        "    if s[i] not in mapping:\n",
        "      mapping[s[i]] = t[i]\n",
        "    elif mapping[s[i]] != t[i]:\n",
        "      return False\n",
        "\n",
        "  return True\n"
      ],
      "metadata": {
        "id": "tWO8uqusDxHX"
      },
      "execution_count": null,
      "outputs": []
    },
    {
      "cell_type": "code",
      "source": [
        "s = \"egg\"\n",
        "t = \"add\"\n",
        "\n",
        "if is_isomorphic(s, t):\n",
        "  print(\"True\")\n",
        "else:\n",
        "  print(\"False\")\n"
      ],
      "metadata": {
        "colab": {
          "base_uri": "https://localhost:8080/"
        },
        "id": "IM5HqFaTEDdT",
        "outputId": "c9cfb3af-a105-4647-d738-68f3d7b8c980"
      },
      "execution_count": null,
      "outputs": [
        {
          "output_type": "stream",
          "name": "stdout",
          "text": [
            "True\n"
          ]
        }
      ]
    },
    {
      "cell_type": "markdown",
      "source": [
        "<aside>\n",
        "💡 **Question 2**\n",
        "\n",
        "Given a string num which represents an integer, return true *if* num *is a\n",
        "\n",
        "**strobogrammatic number***.\n",
        "\n",
        "A **strobogrammatic number** is a number that looks the same when rotated 180\n",
        "\n",
        "degrees (looked at upside down).\n",
        "\n",
        "**Example 1:**\n",
        "\n",
        "**Input:** num = \"69\"\n",
        "\n",
        "**Output:**\n",
        "\n",
        "true\n",
        "\n",
        "</aside>"
      ],
      "metadata": {
        "id": "--AahULMEZRP"
      }
    },
    {
      "cell_type": "code",
      "source": [
        "def is_strobogrammatic(num):\n",
        "  strobogrammatic_numbers = [\"0\", \"1\", \"8\", \"6\", \"9\"]\n",
        "  for i in range(len(num) // 2):\n",
        "    if num[i] not in strobogrammatic_numbers or num[i] != num[len(num) - i - 1]:\n",
        "      return False\n",
        "\n",
        "  return True\n"
      ],
      "metadata": {
        "id": "WBvSwQEuEPHh"
      },
      "execution_count": null,
      "outputs": []
    },
    {
      "cell_type": "code",
      "source": [
        "num = \"69\"\n",
        "\n",
        "if is_strobogrammatic(num):\n",
        "  print(\"True\")\n",
        "else:\n",
        "  print(\"False\")\n"
      ],
      "metadata": {
        "id": "rCdLLW8LGqD5",
        "outputId": "e3fcca40-fa37-4fe8-e030-b07f247a76cf",
        "colab": {
          "base_uri": "https://localhost:8080/"
        }
      },
      "execution_count": null,
      "outputs": [
        {
          "output_type": "stream",
          "name": "stdout",
          "text": [
            "False\n"
          ]
        }
      ]
    },
    {
      "cell_type": "markdown",
      "source": [
        "<aside>\n",
        "💡 **Question 3**\n",
        "\n",
        "Given two non-negative integers, num1 and num2 represented as string, return *the sum of* num1 *and* num2 *as a string*.\n",
        "\n",
        "You must solve the problem without using any built-in library for handling large integers (such as BigInteger). You must also not convert the inputs to integers directly.\n",
        "\n",
        "**Example 1:**\n",
        "\n",
        "**Input:** num1 = \"11\", num2 = \"123\"\n",
        "\n",
        "**Output:**\n",
        "\n",
        "\"134\"\n",
        "\n",
        "</aside>"
      ],
      "metadata": {
        "id": "6otxC0mCjKtT"
      }
    },
    {
      "cell_type": "code",
      "source": [
        "class Solution:\n",
        "    def addStrings(self, num1, num2):\n",
        "        return str(self.convert(num1)+self.convert(num2))\n",
        "\n",
        "    def convert(self, string):\n",
        "        result, digits = 0, {str(i):i for i in range(10)}\n",
        "        for i in string:\n",
        "            result = result*10 + digits[i]\n",
        "        return result\n",
        "    "
      ],
      "metadata": {
        "id": "6f3ns3D-GtRt"
      },
      "execution_count": null,
      "outputs": []
    },
    {
      "cell_type": "markdown",
      "source": [
        "<aside>\n",
        "💡 **Question 4**\n",
        "\n",
        "Given a string s, reverse the order of characters in each word within a sentence while still preserving whitespace and initial word order.\n",
        "\n",
        "**Example 1:**\n",
        "\n",
        "**Input:** s = \"Let's take LeetCode contest\"\n",
        "\n",
        "**Output:** \"s'teL ekat edoCteeL tsetnoc\"\n",
        "\n",
        "</aside>"
      ],
      "metadata": {
        "id": "7YnmHpSAk65U"
      }
    },
    {
      "cell_type": "code",
      "source": [
        "def reverse_words(s):\n",
        " \n",
        "\n",
        "  # Split the sentence into words.\n",
        "  words = s.split()\n",
        "\n",
        "  # Reverse the order of characters in each word.\n",
        "  for word in words:\n",
        "    word = word[::-1]\n",
        "\n",
        "  # Join the words back together.\n",
        "  reversed_sentence = \" \".join(words)\n",
        "\n",
        "  # Return the reversed sentence.\n",
        "  return reversed_sentence\n",
        "\n",
        "\n",
        "if __name__ == \"__main__\":\n",
        "  s = \"Let's take LeetCode contest\"\n",
        "\n",
        "  reversed_sentence = reverse_words(s)\n",
        "\n",
        "  print(reversed_sentence)\n"
      ],
      "metadata": {
        "colab": {
          "base_uri": "https://localhost:8080/"
        },
        "id": "3pyZ6129jqYl",
        "outputId": "0925c72e-6f33-4902-e5af-49039aac0d8d"
      },
      "execution_count": null,
      "outputs": [
        {
          "output_type": "stream",
          "name": "stdout",
          "text": [
            "Let's take LeetCode contest\n"
          ]
        }
      ]
    },
    {
      "cell_type": "markdown",
      "source": [
        "<aside>\n",
        "💡 **Question 5**\n",
        "\n",
        "Given a string s and an integer k, reverse the first k characters for every 2k characters counting from the start of the string.\n",
        "\n",
        "If there are fewer than k characters left, reverse all of them. If there are less than 2k but greater than or equal to k characters, then reverse the first k characters and leave the other as original.\n",
        "\n",
        "**Example 1:**\n",
        "\n",
        "**Input:** s = \"abcdefg\", k = 2\n",
        "\n",
        "**Output:**\n",
        "\n",
        "\"bacdfeg\"\n",
        "\n",
        "</aside>"
      ],
      "metadata": {
        "id": "VOncq7Z1ldux"
      }
    },
    {
      "cell_type": "code",
      "source": [
        "def reverse_every_2k_chars(s, k):\n",
        "  \n",
        "  # Check if the inputs are valid.\n",
        "  if not isinstance(s, str) or not isinstance(k, int):\n",
        "    raise ValueError(\"The inputs must be strings and integers.\")\n",
        "\n",
        "  # Reverse the first k characters of the string.\n",
        "  reversed_string = s[:k][::-1] + s[k:]\n",
        "\n",
        "  # If there are fewer than 2k characters left, reverse all of them.\n",
        "  if len(reversed_string) < 2 * k:\n",
        "    reversed_string = reversed_string[::-1]\n",
        "\n",
        "  # If there are less than 2k but greater than or equal to k characters, then reverse the first k characters and leave the other as original.\n",
        "  elif len(reversed_string) >= 2 * k:\n",
        "    reversed_string = reversed_string[:2 * k][::-1] + reversed_string[2 * k:]\n",
        "\n",
        "  # Return the reversed string.\n",
        "  return reversed_string\n",
        "\n",
        "\n",
        "if __name__ == \"__main__\":\n",
        "  s = \"abcdefg\"\n",
        "  k = 2\n",
        "\n",
        "  reversed_string = reverse_every_2k_chars(s, k)\n",
        "\n",
        "  print(reversed_string)\n"
      ],
      "metadata": {
        "colab": {
          "base_uri": "https://localhost:8080/"
        },
        "id": "2FoG23SrlLFG",
        "outputId": "0fe127f6-a32d-4e2c-ea86-24c4fdaac487"
      },
      "execution_count": null,
      "outputs": [
        {
          "output_type": "stream",
          "name": "stdout",
          "text": [
            "dcabefg\n"
          ]
        }
      ]
    },
    {
      "cell_type": "markdown",
      "source": [
        "<aside>\n",
        "💡 **Question 6**\n",
        "\n",
        "Given two strings s and goal, return true *if and only if* s *can become* goal *after some number of **shifts** on* s.\n",
        "\n",
        "A **shift** on s consists of moving the leftmost character of s to the rightmost position.\n",
        "\n",
        "- For example, if s = \"abcde\", then it will be \"bcdea\" after one shift.\n",
        "\n",
        "**Example 1:**\n",
        "\n",
        "**Input:** s = \"abcde\", goal = \"cdeab\"\n",
        "\n",
        "**Output:**\n",
        "\n",
        "true\n",
        "\n",
        "</aside>"
      ],
      "metadata": {
        "id": "oLHfcTxeGoK9"
      }
    },
    {
      "cell_type": "code",
      "source": [
        "def is_rotation(s, goal):\n",
        " \n",
        "  if len(s) != len(goal):\n",
        "    return False\n",
        "\n",
        "  for i in range(len(s)):\n",
        "    if s[i:] + s[:i] == goal:\n",
        "      return True\n",
        "\n",
        "  return False\n"
      ],
      "metadata": {
        "id": "k5hZcXZ-ptZi"
      },
      "execution_count": 1,
      "outputs": []
    },
    {
      "cell_type": "code",
      "source": [
        "s = \"abcde\"\n",
        "goal = \"cdeab\"\n",
        "\n",
        "if is_rotation(s, goal):\n",
        "  print(\"True\")\n",
        "else:\n",
        "  print(\"False\")\n"
      ],
      "metadata": {
        "colab": {
          "base_uri": "https://localhost:8080/"
        },
        "id": "P__uzA_sG5qF",
        "outputId": "bedc5f36-656c-4b16-87a7-08a57f9d2371"
      },
      "execution_count": 2,
      "outputs": [
        {
          "output_type": "stream",
          "name": "stdout",
          "text": [
            "True\n"
          ]
        }
      ]
    },
    {
      "cell_type": "markdown",
      "source": [
        "<aside>\n",
        "💡 **Question 7**\n",
        "\n",
        "Given two strings s and t, return true *if they are equal when both are typed into empty text editors*. '#' means a backspace character.\n",
        "\n",
        "Note that after backspacing an empty text, the text will continue empty.\n",
        "\n",
        "**Example 1:**\n",
        "\n",
        "**Input:** s = \"ab#c\", t = \"ad#c\"\n",
        "\n",
        "**Output:** true\n",
        "\n",
        "**Explanation:**\n",
        "\n",
        "Both s and t become \"ac\".\n",
        "\n",
        "</aside>"
      ],
      "metadata": {
        "id": "trMYWffhHjcS"
      }
    },
    {
      "cell_type": "code",
      "source": [
        "def backspace_compare(s, t):\n",
        " \n",
        "\n",
        "  # Initialize the cursors at the end of the strings.\n",
        "  si = len(s) - 1\n",
        "  ti = len(t) - 1\n",
        "\n",
        "  # Iterate until the cursors reach the beginning of the strings.\n",
        "  while si >= 0 and ti >= 0:\n",
        "    # If the current character is not a backspace, then compare the characters and move the cursors forward.\n",
        "    if s[si] != '#' and t[ti] != '#':\n",
        "      if s[si] != t[ti]:\n",
        "        return False\n",
        "      si -= 1\n",
        "      ti -= 1\n",
        "\n",
        "    # If the current character is a backspace, then delete the previous character from the string and move the cursor back.\n",
        "    elif s[si] == '#':\n",
        "      si -= 1\n",
        "    elif t[ti] == '#':\n",
        "      ti -= 1\n",
        "\n",
        "  # If the cursors have reached the beginning of the strings and the strings are equal, then return True.\n",
        "  return si == -1 and ti == -1\n"
      ],
      "metadata": {
        "id": "xBAkrn0iHC9Q"
      },
      "execution_count": 3,
      "outputs": []
    },
    {
      "cell_type": "code",
      "source": [
        "s = \"ab#c\"\n",
        "t = \"ad#c\"\n",
        "\n",
        "if backspace_compare(s, t):\n",
        "  print(\"True\")\n",
        "else:\n",
        "  print(\"False\")\n"
      ],
      "metadata": {
        "colab": {
          "base_uri": "https://localhost:8080/"
        },
        "id": "Z-N4i1KTH0Z8",
        "outputId": "e715e128-444e-42f2-b7c1-7337f61fb0f4"
      },
      "execution_count": 4,
      "outputs": [
        {
          "output_type": "stream",
          "name": "stdout",
          "text": [
            "False\n"
          ]
        }
      ]
    },
    {
      "cell_type": "markdown",
      "source": [
        "<aside>\n",
        "💡 **Question 8**\n",
        "\n",
        "You are given an array coordinates, coordinates[i] = [x, y], where [x, y] represents the coordinate of a point. Check if these points make a straight line in the XY plane.\n",
        "\n",
        "**Example 1:**\n",
        "\n",
        "</aside>\n",
        "**Input:** coordinates = [[1,2],[2,3],[3,4],[4,5],[5,6],[6,7]]\n",
        "\n",
        "**Output:** true"
      ],
      "metadata": {
        "id": "SThqtexFICsR"
      }
    },
    {
      "cell_type": "code",
      "source": [
        "def is_straight_line(coordinates):\n",
        "  \n",
        "\n",
        "  # Check if the number of coordinates is less than 2.\n",
        "  if len(coordinates) < 2:\n",
        "    return False\n",
        "\n",
        "  # Calculate the slope of the line between the first two points.\n",
        "  slope = (coordinates[1][1] - coordinates[0][1]) / (coordinates[1][0] - coordinates[0][0])\n",
        "\n",
        "  # Check if the slope of the line between any two points is equal to the slope of the first line.\n",
        "  for i in range(1, len(coordinates) - 1):\n",
        "    if (coordinates[i + 1][1] - coordinates[i][1]) / (coordinates[i + 1][0] - coordinates[i][0]) != slope:\n",
        "      return False\n",
        "\n",
        "  # If all of the checks pass, then the coordinates make a straight line.\n",
        "  return True\n"
      ],
      "metadata": {
        "id": "yHR-p9TQH3ye"
      },
      "execution_count": 5,
      "outputs": []
    },
    {
      "cell_type": "code",
      "source": [
        "coordinates = [[1,2],[2,3],[3,4],[4,5],[5,6],[6,7]]\n",
        "\n",
        "if is_straight_line(coordinates):\n",
        "  print(\"True\")\n",
        "else:\n",
        "  print(\"False\")\n"
      ],
      "metadata": {
        "colab": {
          "base_uri": "https://localhost:8080/"
        },
        "id": "fKXIF7CGIWGz",
        "outputId": "ca0c6c3f-d9a2-4c25-8eb3-5bb4f315920c"
      },
      "execution_count": 6,
      "outputs": [
        {
          "output_type": "stream",
          "name": "stdout",
          "text": [
            "True\n"
          ]
        }
      ]
    },
    {
      "cell_type": "code",
      "source": [],
      "metadata": {
        "id": "wGTU9nc4IdQJ"
      },
      "execution_count": null,
      "outputs": []
    }
  ]
}